{
 "cells": [
  {
   "cell_type": "code",
   "execution_count": 6,
   "metadata": {},
   "outputs": [
    {
     "name": "stderr",
     "output_type": "stream",
     "text": [
      "Matplotlib is building the font cache; this may take a moment.\n"
     ]
    }
   ],
   "source": [
    "import pandas as pd\n",
    "import numpy as np\n",
    "import datetime as dt\n",
    "import matplotlib.pyplot as plt\n",
    "import seaborn as sns\n",
    "\n",
    "import warnings\n",
    "warnings.filterwarnings('ignore')\n"
   ]
  },
  {
   "cell_type": "markdown",
   "metadata": {},
   "source": [
    "## reading the data from dataset"
   ]
  },
  {
   "cell_type": "code",
   "execution_count": 7,
   "metadata": {},
   "outputs": [],
   "source": [
    "data = pd.read_csv(\"car_price_prediction.csv\")"
   ]
  },
  {
   "cell_type": "code",
   "execution_count": 9,
   "metadata": {},
   "outputs": [
    {
     "data": {
      "text/html": [
       "<div>\n",
       "<style scoped>\n",
       "    .dataframe tbody tr th:only-of-type {\n",
       "        vertical-align: middle;\n",
       "    }\n",
       "\n",
       "    .dataframe tbody tr th {\n",
       "        vertical-align: top;\n",
       "    }\n",
       "\n",
       "    .dataframe thead th {\n",
       "        text-align: right;\n",
       "    }\n",
       "</style>\n",
       "<table border=\"1\" class=\"dataframe\">\n",
       "  <thead>\n",
       "    <tr style=\"text-align: right;\">\n",
       "      <th></th>\n",
       "      <th>ID</th>\n",
       "      <th>Price</th>\n",
       "      <th>Levy</th>\n",
       "      <th>Manufacturer</th>\n",
       "      <th>Model</th>\n",
       "      <th>Prod. year</th>\n",
       "      <th>Category</th>\n",
       "      <th>Leather interior</th>\n",
       "      <th>Fuel type</th>\n",
       "      <th>Engine volume</th>\n",
       "      <th>Mileage</th>\n",
       "      <th>Cylinders</th>\n",
       "      <th>Gear box type</th>\n",
       "      <th>Drive wheels</th>\n",
       "      <th>Doors</th>\n",
       "      <th>Wheel</th>\n",
       "      <th>Color</th>\n",
       "      <th>Airbags</th>\n",
       "    </tr>\n",
       "  </thead>\n",
       "  <tbody>\n",
       "    <tr>\n",
       "      <th>0</th>\n",
       "      <td>45654403</td>\n",
       "      <td>13328</td>\n",
       "      <td>1399</td>\n",
       "      <td>LEXUS</td>\n",
       "      <td>RX 450</td>\n",
       "      <td>2010</td>\n",
       "      <td>Jeep</td>\n",
       "      <td>Yes</td>\n",
       "      <td>Hybrid</td>\n",
       "      <td>3.5</td>\n",
       "      <td>186005 km</td>\n",
       "      <td>6.0</td>\n",
       "      <td>Automatic</td>\n",
       "      <td>4x4</td>\n",
       "      <td>04-May</td>\n",
       "      <td>Left wheel</td>\n",
       "      <td>Silver</td>\n",
       "      <td>12</td>\n",
       "    </tr>\n",
       "    <tr>\n",
       "      <th>1</th>\n",
       "      <td>44731507</td>\n",
       "      <td>16621</td>\n",
       "      <td>1018</td>\n",
       "      <td>CHEVROLET</td>\n",
       "      <td>Equinox</td>\n",
       "      <td>2011</td>\n",
       "      <td>Jeep</td>\n",
       "      <td>No</td>\n",
       "      <td>Petrol</td>\n",
       "      <td>3</td>\n",
       "      <td>192000 km</td>\n",
       "      <td>6.0</td>\n",
       "      <td>Tiptronic</td>\n",
       "      <td>4x4</td>\n",
       "      <td>04-May</td>\n",
       "      <td>Left wheel</td>\n",
       "      <td>Black</td>\n",
       "      <td>8</td>\n",
       "    </tr>\n",
       "    <tr>\n",
       "      <th>2</th>\n",
       "      <td>45774419</td>\n",
       "      <td>8467</td>\n",
       "      <td>-</td>\n",
       "      <td>HONDA</td>\n",
       "      <td>FIT</td>\n",
       "      <td>2006</td>\n",
       "      <td>Hatchback</td>\n",
       "      <td>No</td>\n",
       "      <td>Petrol</td>\n",
       "      <td>1.3</td>\n",
       "      <td>200000 km</td>\n",
       "      <td>4.0</td>\n",
       "      <td>Variator</td>\n",
       "      <td>Front</td>\n",
       "      <td>04-May</td>\n",
       "      <td>Right-hand drive</td>\n",
       "      <td>Black</td>\n",
       "      <td>2</td>\n",
       "    </tr>\n",
       "    <tr>\n",
       "      <th>3</th>\n",
       "      <td>45769185</td>\n",
       "      <td>3607</td>\n",
       "      <td>862</td>\n",
       "      <td>FORD</td>\n",
       "      <td>Escape</td>\n",
       "      <td>2011</td>\n",
       "      <td>Jeep</td>\n",
       "      <td>Yes</td>\n",
       "      <td>Hybrid</td>\n",
       "      <td>2.5</td>\n",
       "      <td>168966 km</td>\n",
       "      <td>4.0</td>\n",
       "      <td>Automatic</td>\n",
       "      <td>4x4</td>\n",
       "      <td>04-May</td>\n",
       "      <td>Left wheel</td>\n",
       "      <td>White</td>\n",
       "      <td>0</td>\n",
       "    </tr>\n",
       "    <tr>\n",
       "      <th>4</th>\n",
       "      <td>45809263</td>\n",
       "      <td>11726</td>\n",
       "      <td>446</td>\n",
       "      <td>HONDA</td>\n",
       "      <td>FIT</td>\n",
       "      <td>2014</td>\n",
       "      <td>Hatchback</td>\n",
       "      <td>Yes</td>\n",
       "      <td>Petrol</td>\n",
       "      <td>1.3</td>\n",
       "      <td>91901 km</td>\n",
       "      <td>4.0</td>\n",
       "      <td>Automatic</td>\n",
       "      <td>Front</td>\n",
       "      <td>04-May</td>\n",
       "      <td>Left wheel</td>\n",
       "      <td>Silver</td>\n",
       "      <td>4</td>\n",
       "    </tr>\n",
       "  </tbody>\n",
       "</table>\n",
       "</div>"
      ],
      "text/plain": [
       "         ID  Price  Levy Manufacturer    Model  Prod. year   Category  \\\n",
       "0  45654403  13328  1399        LEXUS   RX 450        2010       Jeep   \n",
       "1  44731507  16621  1018    CHEVROLET  Equinox        2011       Jeep   \n",
       "2  45774419   8467     -        HONDA      FIT        2006  Hatchback   \n",
       "3  45769185   3607   862         FORD   Escape        2011       Jeep   \n",
       "4  45809263  11726   446        HONDA      FIT        2014  Hatchback   \n",
       "\n",
       "  Leather interior Fuel type Engine volume    Mileage  Cylinders  \\\n",
       "0              Yes    Hybrid           3.5  186005 km        6.0   \n",
       "1               No    Petrol             3  192000 km        6.0   \n",
       "2               No    Petrol           1.3  200000 km        4.0   \n",
       "3              Yes    Hybrid           2.5  168966 km        4.0   \n",
       "4              Yes    Petrol           1.3   91901 km        4.0   \n",
       "\n",
       "  Gear box type Drive wheels   Doors             Wheel   Color  Airbags  \n",
       "0     Automatic          4x4  04-May        Left wheel  Silver       12  \n",
       "1     Tiptronic          4x4  04-May        Left wheel   Black        8  \n",
       "2      Variator        Front  04-May  Right-hand drive   Black        2  \n",
       "3     Automatic          4x4  04-May        Left wheel   White        0  \n",
       "4     Automatic        Front  04-May        Left wheel  Silver        4  "
      ]
     },
     "execution_count": 9,
     "metadata": {},
     "output_type": "execute_result"
    }
   ],
   "source": [
    "data.head()"
   ]
  },
  {
   "cell_type": "code",
   "execution_count": 12,
   "metadata": {},
   "outputs": [
    {
     "name": "stdout",
     "output_type": "stream",
     "text": [
      "(19237, 18)\n",
      "<class 'pandas.core.frame.DataFrame'>\n",
      "RangeIndex: 19237 entries, 0 to 19236\n",
      "Data columns (total 18 columns):\n",
      " #   Column            Non-Null Count  Dtype  \n",
      "---  ------            --------------  -----  \n",
      " 0   ID                19237 non-null  int64  \n",
      " 1   Price             19237 non-null  int64  \n",
      " 2   Levy              19237 non-null  object \n",
      " 3   Manufacturer      19237 non-null  object \n",
      " 4   Model             19237 non-null  object \n",
      " 5   Prod. year        19237 non-null  int64  \n",
      " 6   Category          19237 non-null  object \n",
      " 7   Leather interior  19237 non-null  object \n",
      " 8   Fuel type         19237 non-null  object \n",
      " 9   Engine volume     19237 non-null  object \n",
      " 10  Mileage           19237 non-null  object \n",
      " 11  Cylinders         19237 non-null  float64\n",
      " 12  Gear box type     19237 non-null  object \n",
      " 13  Drive wheels      19237 non-null  object \n",
      " 14  Doors             19237 non-null  object \n",
      " 15  Wheel             19237 non-null  object \n",
      " 16  Color             19237 non-null  object \n",
      " 17  Airbags           19237 non-null  int64  \n",
      "dtypes: float64(1), int64(4), object(13)\n",
      "memory usage: 2.6+ MB\n"
     ]
    }
   ],
   "source": [
    "print(data.shape)\n",
    "\n",
    "data.info()"
   ]
  },
  {
   "cell_type": "markdown",
   "metadata": {},
   "source": [
    "## data cleaning and exploring process"
   ]
  },
  {
   "cell_type": "code",
   "execution_count": 15,
   "metadata": {},
   "outputs": [
    {
     "data": {
      "text/plain": [
       "np.int64(313)"
      ]
     },
     "execution_count": 15,
     "metadata": {},
     "output_type": "execute_result"
    }
   ],
   "source": [
    "# checking for duplicate values and removing them\n",
    "\n",
    "data.duplicated().sum()"
   ]
  },
  {
   "cell_type": "code",
   "execution_count": 16,
   "metadata": {},
   "outputs": [],
   "source": [
    "# since duplicate values are present, we will remove them\n",
    "\n",
    "data.drop_duplicates(inplace= True)"
   ]
  },
  {
   "cell_type": "code",
   "execution_count": 17,
   "metadata": {},
   "outputs": [
    {
     "data": {
      "text/plain": [
       "ID                  0\n",
       "Price               0\n",
       "Levy                0\n",
       "Manufacturer        0\n",
       "Model               0\n",
       "Prod. year          0\n",
       "Category            0\n",
       "Leather interior    0\n",
       "Fuel type           0\n",
       "Engine volume       0\n",
       "Mileage             0\n",
       "Cylinders           0\n",
       "Gear box type       0\n",
       "Drive wheels        0\n",
       "Doors               0\n",
       "Wheel               0\n",
       "Color               0\n",
       "Airbags             0\n",
       "dtype: int64"
      ]
     },
     "execution_count": 17,
     "metadata": {},
     "output_type": "execute_result"
    }
   ],
   "source": [
    "# checking for missing values\n",
    "\n",
    "data.isna().sum()"
   ]
  },
  {
   "cell_type": "markdown",
   "metadata": {},
   "source": [
    "No missing values are present."
   ]
  },
  {
   "cell_type": "code",
   "execution_count": 18,
   "metadata": {},
   "outputs": [
    {
     "data": {
      "text/html": [
       "<div>\n",
       "<style scoped>\n",
       "    .dataframe tbody tr th:only-of-type {\n",
       "        vertical-align: middle;\n",
       "    }\n",
       "\n",
       "    .dataframe tbody tr th {\n",
       "        vertical-align: top;\n",
       "    }\n",
       "\n",
       "    .dataframe thead th {\n",
       "        text-align: right;\n",
       "    }\n",
       "</style>\n",
       "<table border=\"1\" class=\"dataframe\">\n",
       "  <thead>\n",
       "    <tr style=\"text-align: right;\">\n",
       "      <th></th>\n",
       "      <th>ID</th>\n",
       "      <th>Price</th>\n",
       "      <th>Prod. year</th>\n",
       "      <th>Cylinders</th>\n",
       "      <th>Airbags</th>\n",
       "    </tr>\n",
       "  </thead>\n",
       "  <tbody>\n",
       "    <tr>\n",
       "      <th>count</th>\n",
       "      <td>1.892400e+04</td>\n",
       "      <td>1.892400e+04</td>\n",
       "      <td>18924.000000</td>\n",
       "      <td>18924.000000</td>\n",
       "      <td>18924.000000</td>\n",
       "    </tr>\n",
       "    <tr>\n",
       "      <th>mean</th>\n",
       "      <td>4.557538e+07</td>\n",
       "      <td>1.858744e+04</td>\n",
       "      <td>2010.914236</td>\n",
       "      <td>4.580216</td>\n",
       "      <td>6.568379</td>\n",
       "    </tr>\n",
       "    <tr>\n",
       "      <th>std</th>\n",
       "      <td>9.375468e+05</td>\n",
       "      <td>1.921356e+05</td>\n",
       "      <td>5.665749</td>\n",
       "      <td>1.200223</td>\n",
       "      <td>4.322323</td>\n",
       "    </tr>\n",
       "    <tr>\n",
       "      <th>min</th>\n",
       "      <td>2.074688e+07</td>\n",
       "      <td>1.000000e+00</td>\n",
       "      <td>1939.000000</td>\n",
       "      <td>1.000000</td>\n",
       "      <td>0.000000</td>\n",
       "    </tr>\n",
       "    <tr>\n",
       "      <th>25%</th>\n",
       "      <td>4.569501e+07</td>\n",
       "      <td>5.331000e+03</td>\n",
       "      <td>2009.000000</td>\n",
       "      <td>4.000000</td>\n",
       "      <td>4.000000</td>\n",
       "    </tr>\n",
       "    <tr>\n",
       "      <th>50%</th>\n",
       "      <td>4.577191e+07</td>\n",
       "      <td>1.317200e+04</td>\n",
       "      <td>2012.000000</td>\n",
       "      <td>4.000000</td>\n",
       "      <td>6.000000</td>\n",
       "    </tr>\n",
       "    <tr>\n",
       "      <th>75%</th>\n",
       "      <td>4.580174e+07</td>\n",
       "      <td>2.206300e+04</td>\n",
       "      <td>2015.000000</td>\n",
       "      <td>4.000000</td>\n",
       "      <td>12.000000</td>\n",
       "    </tr>\n",
       "    <tr>\n",
       "      <th>max</th>\n",
       "      <td>4.581665e+07</td>\n",
       "      <td>2.630750e+07</td>\n",
       "      <td>2020.000000</td>\n",
       "      <td>16.000000</td>\n",
       "      <td>16.000000</td>\n",
       "    </tr>\n",
       "  </tbody>\n",
       "</table>\n",
       "</div>"
      ],
      "text/plain": [
       "                 ID         Price    Prod. year     Cylinders       Airbags\n",
       "count  1.892400e+04  1.892400e+04  18924.000000  18924.000000  18924.000000\n",
       "mean   4.557538e+07  1.858744e+04   2010.914236      4.580216      6.568379\n",
       "std    9.375468e+05  1.921356e+05      5.665749      1.200223      4.322323\n",
       "min    2.074688e+07  1.000000e+00   1939.000000      1.000000      0.000000\n",
       "25%    4.569501e+07  5.331000e+03   2009.000000      4.000000      4.000000\n",
       "50%    4.577191e+07  1.317200e+04   2012.000000      4.000000      6.000000\n",
       "75%    4.580174e+07  2.206300e+04   2015.000000      4.000000     12.000000\n",
       "max    4.581665e+07  2.630750e+07   2020.000000     16.000000     16.000000"
      ]
     },
     "execution_count": 18,
     "metadata": {},
     "output_type": "execute_result"
    }
   ],
   "source": [
    "# checking the statistics of the data\n",
    "\n",
    "data.describe()"
   ]
  },
  {
   "cell_type": "code",
   "execution_count": null,
   "metadata": {},
   "outputs": [
    {
     "name": "stdout",
     "output_type": "stream",
     "text": [
      "0        45654403\n",
      "1        44731507\n",
      "2        45774419\n",
      "3        45769185\n",
      "4        45809263\n",
      "           ...   \n",
      "19232    45798355\n",
      "19233    45778856\n",
      "19234    45804997\n",
      "19235    45793526\n",
      "19236    45813273\n",
      "Name: ID, Length: 18924, dtype: int64\n"
     ]
    }
   ],
   "source": [
    "# analysing the target variable\n",
    "\n",
    "print(data['ID'])\n",
    "\n",
    "print(data['Price'])\n"
   ]
  }
 ],
 "metadata": {
  "kernelspec": {
   "display_name": "Python 3",
   "language": "python",
   "name": "python3"
  },
  "language_info": {
   "codemirror_mode": {
    "name": "ipython",
    "version": 3
   },
   "file_extension": ".py",
   "mimetype": "text/x-python",
   "name": "python",
   "nbconvert_exporter": "python",
   "pygments_lexer": "ipython3",
   "version": "3.12.1"
  }
 },
 "nbformat": 4,
 "nbformat_minor": 2
}
